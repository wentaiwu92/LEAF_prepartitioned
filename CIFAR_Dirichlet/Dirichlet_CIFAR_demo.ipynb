{
  "nbformat": 4,
  "nbformat_minor": 0,
  "metadata": {
    "colab": {
      "name": "Dirichlet_CIFAR_demo.ipynb",
      "provenance": [],
      "collapsed_sections": []
    },
    "kernelspec": {
      "name": "python3",
      "display_name": "Python 3"
    },
    "language_info": {
      "name": "python"
    },
    "widgets": {
      "application/vnd.jupyter.widget-state+json": {
        "0505c17a5fef42a6b8128445bcc4b630": {
          "model_module": "@jupyter-widgets/controls",
          "model_name": "HBoxModel",
          "model_module_version": "1.5.0",
          "state": {
            "_view_name": "HBoxView",
            "_dom_classes": [],
            "_model_name": "HBoxModel",
            "_view_module": "@jupyter-widgets/controls",
            "_model_module_version": "1.5.0",
            "_view_count": null,
            "_view_module_version": "1.5.0",
            "box_style": "",
            "layout": "IPY_MODEL_1dd17ecc01db4721bf8745e264332243",
            "_model_module": "@jupyter-widgets/controls",
            "children": [
              "IPY_MODEL_f5bbfa4c45a746bca7844a2c812241fb",
              "IPY_MODEL_d55c8b8bf2604faf8dd9cef6aff86e53",
              "IPY_MODEL_b1c51f2a60254ea1ae6735affb7acdbc"
            ]
          }
        },
        "1dd17ecc01db4721bf8745e264332243": {
          "model_module": "@jupyter-widgets/base",
          "model_name": "LayoutModel",
          "model_module_version": "1.2.0",
          "state": {
            "_view_name": "LayoutView",
            "grid_template_rows": null,
            "right": null,
            "justify_content": null,
            "_view_module": "@jupyter-widgets/base",
            "overflow": null,
            "_model_module_version": "1.2.0",
            "_view_count": null,
            "flex_flow": null,
            "width": null,
            "min_width": null,
            "border": null,
            "align_items": null,
            "bottom": null,
            "_model_module": "@jupyter-widgets/base",
            "top": null,
            "grid_column": null,
            "overflow_y": null,
            "overflow_x": null,
            "grid_auto_flow": null,
            "grid_area": null,
            "grid_template_columns": null,
            "flex": null,
            "_model_name": "LayoutModel",
            "justify_items": null,
            "grid_row": null,
            "max_height": null,
            "align_content": null,
            "visibility": null,
            "align_self": null,
            "height": null,
            "min_height": null,
            "padding": null,
            "grid_auto_rows": null,
            "grid_gap": null,
            "max_width": null,
            "order": null,
            "_view_module_version": "1.2.0",
            "grid_template_areas": null,
            "object_position": null,
            "object_fit": null,
            "grid_auto_columns": null,
            "margin": null,
            "display": null,
            "left": null
          }
        },
        "f5bbfa4c45a746bca7844a2c812241fb": {
          "model_module": "@jupyter-widgets/controls",
          "model_name": "HTMLModel",
          "model_module_version": "1.5.0",
          "state": {
            "_view_name": "HTMLView",
            "style": "IPY_MODEL_1f3a4894061d4efe988b35a0f1e5d7e0",
            "_dom_classes": [],
            "description": "",
            "_model_name": "HTMLModel",
            "placeholder": "​",
            "_view_module": "@jupyter-widgets/controls",
            "_model_module_version": "1.5.0",
            "value": "",
            "_view_count": null,
            "_view_module_version": "1.5.0",
            "description_tooltip": null,
            "_model_module": "@jupyter-widgets/controls",
            "layout": "IPY_MODEL_76ca04ef204f4b0eb9123b5d3bd3b339"
          }
        },
        "d55c8b8bf2604faf8dd9cef6aff86e53": {
          "model_module": "@jupyter-widgets/controls",
          "model_name": "FloatProgressModel",
          "model_module_version": "1.5.0",
          "state": {
            "_view_name": "ProgressView",
            "style": "IPY_MODEL_05e5a68583ab406b98ba59d28daba5d1",
            "_dom_classes": [],
            "description": "",
            "_model_name": "FloatProgressModel",
            "bar_style": "success",
            "max": 170498071,
            "_view_module": "@jupyter-widgets/controls",
            "_model_module_version": "1.5.0",
            "value": 170498071,
            "_view_count": null,
            "_view_module_version": "1.5.0",
            "orientation": "horizontal",
            "min": 0,
            "description_tooltip": null,
            "_model_module": "@jupyter-widgets/controls",
            "layout": "IPY_MODEL_931b0873ab3a46b892c4dd3f40a6e9b0"
          }
        },
        "b1c51f2a60254ea1ae6735affb7acdbc": {
          "model_module": "@jupyter-widgets/controls",
          "model_name": "HTMLModel",
          "model_module_version": "1.5.0",
          "state": {
            "_view_name": "HTMLView",
            "style": "IPY_MODEL_f895070a211b46448ba02436153e247f",
            "_dom_classes": [],
            "description": "",
            "_model_name": "HTMLModel",
            "placeholder": "​",
            "_view_module": "@jupyter-widgets/controls",
            "_model_module_version": "1.5.0",
            "value": " 170499072/? [00:02&lt;00:00, 65500779.54it/s]",
            "_view_count": null,
            "_view_module_version": "1.5.0",
            "description_tooltip": null,
            "_model_module": "@jupyter-widgets/controls",
            "layout": "IPY_MODEL_381a6e88db8d4e1ea7de2c513395b8c8"
          }
        },
        "1f3a4894061d4efe988b35a0f1e5d7e0": {
          "model_module": "@jupyter-widgets/controls",
          "model_name": "DescriptionStyleModel",
          "model_module_version": "1.5.0",
          "state": {
            "_view_name": "StyleView",
            "_model_name": "DescriptionStyleModel",
            "description_width": "",
            "_view_module": "@jupyter-widgets/base",
            "_model_module_version": "1.5.0",
            "_view_count": null,
            "_view_module_version": "1.2.0",
            "_model_module": "@jupyter-widgets/controls"
          }
        },
        "76ca04ef204f4b0eb9123b5d3bd3b339": {
          "model_module": "@jupyter-widgets/base",
          "model_name": "LayoutModel",
          "model_module_version": "1.2.0",
          "state": {
            "_view_name": "LayoutView",
            "grid_template_rows": null,
            "right": null,
            "justify_content": null,
            "_view_module": "@jupyter-widgets/base",
            "overflow": null,
            "_model_module_version": "1.2.0",
            "_view_count": null,
            "flex_flow": null,
            "width": null,
            "min_width": null,
            "border": null,
            "align_items": null,
            "bottom": null,
            "_model_module": "@jupyter-widgets/base",
            "top": null,
            "grid_column": null,
            "overflow_y": null,
            "overflow_x": null,
            "grid_auto_flow": null,
            "grid_area": null,
            "grid_template_columns": null,
            "flex": null,
            "_model_name": "LayoutModel",
            "justify_items": null,
            "grid_row": null,
            "max_height": null,
            "align_content": null,
            "visibility": null,
            "align_self": null,
            "height": null,
            "min_height": null,
            "padding": null,
            "grid_auto_rows": null,
            "grid_gap": null,
            "max_width": null,
            "order": null,
            "_view_module_version": "1.2.0",
            "grid_template_areas": null,
            "object_position": null,
            "object_fit": null,
            "grid_auto_columns": null,
            "margin": null,
            "display": null,
            "left": null
          }
        },
        "05e5a68583ab406b98ba59d28daba5d1": {
          "model_module": "@jupyter-widgets/controls",
          "model_name": "ProgressStyleModel",
          "model_module_version": "1.5.0",
          "state": {
            "_view_name": "StyleView",
            "_model_name": "ProgressStyleModel",
            "description_width": "",
            "_view_module": "@jupyter-widgets/base",
            "_model_module_version": "1.5.0",
            "_view_count": null,
            "_view_module_version": "1.2.0",
            "bar_color": null,
            "_model_module": "@jupyter-widgets/controls"
          }
        },
        "931b0873ab3a46b892c4dd3f40a6e9b0": {
          "model_module": "@jupyter-widgets/base",
          "model_name": "LayoutModel",
          "model_module_version": "1.2.0",
          "state": {
            "_view_name": "LayoutView",
            "grid_template_rows": null,
            "right": null,
            "justify_content": null,
            "_view_module": "@jupyter-widgets/base",
            "overflow": null,
            "_model_module_version": "1.2.0",
            "_view_count": null,
            "flex_flow": null,
            "width": null,
            "min_width": null,
            "border": null,
            "align_items": null,
            "bottom": null,
            "_model_module": "@jupyter-widgets/base",
            "top": null,
            "grid_column": null,
            "overflow_y": null,
            "overflow_x": null,
            "grid_auto_flow": null,
            "grid_area": null,
            "grid_template_columns": null,
            "flex": null,
            "_model_name": "LayoutModel",
            "justify_items": null,
            "grid_row": null,
            "max_height": null,
            "align_content": null,
            "visibility": null,
            "align_self": null,
            "height": null,
            "min_height": null,
            "padding": null,
            "grid_auto_rows": null,
            "grid_gap": null,
            "max_width": null,
            "order": null,
            "_view_module_version": "1.2.0",
            "grid_template_areas": null,
            "object_position": null,
            "object_fit": null,
            "grid_auto_columns": null,
            "margin": null,
            "display": null,
            "left": null
          }
        },
        "f895070a211b46448ba02436153e247f": {
          "model_module": "@jupyter-widgets/controls",
          "model_name": "DescriptionStyleModel",
          "model_module_version": "1.5.0",
          "state": {
            "_view_name": "StyleView",
            "_model_name": "DescriptionStyleModel",
            "description_width": "",
            "_view_module": "@jupyter-widgets/base",
            "_model_module_version": "1.5.0",
            "_view_count": null,
            "_view_module_version": "1.2.0",
            "_model_module": "@jupyter-widgets/controls"
          }
        },
        "381a6e88db8d4e1ea7de2c513395b8c8": {
          "model_module": "@jupyter-widgets/base",
          "model_name": "LayoutModel",
          "model_module_version": "1.2.0",
          "state": {
            "_view_name": "LayoutView",
            "grid_template_rows": null,
            "right": null,
            "justify_content": null,
            "_view_module": "@jupyter-widgets/base",
            "overflow": null,
            "_model_module_version": "1.2.0",
            "_view_count": null,
            "flex_flow": null,
            "width": null,
            "min_width": null,
            "border": null,
            "align_items": null,
            "bottom": null,
            "_model_module": "@jupyter-widgets/base",
            "top": null,
            "grid_column": null,
            "overflow_y": null,
            "overflow_x": null,
            "grid_auto_flow": null,
            "grid_area": null,
            "grid_template_columns": null,
            "flex": null,
            "_model_name": "LayoutModel",
            "justify_items": null,
            "grid_row": null,
            "max_height": null,
            "align_content": null,
            "visibility": null,
            "align_self": null,
            "height": null,
            "min_height": null,
            "padding": null,
            "grid_auto_rows": null,
            "grid_gap": null,
            "max_width": null,
            "order": null,
            "_view_module_version": "1.2.0",
            "grid_template_areas": null,
            "object_position": null,
            "object_fit": null,
            "grid_auto_columns": null,
            "margin": null,
            "display": null,
            "left": null
          }
        }
      }
    }
  },
  "cells": [
    {
      "cell_type": "markdown",
      "metadata": {
        "id": "7qkjQ0fdEQyK"
      },
      "source": [
        "###Partition CIFAR-10/100 by Dirichle distribution\n",
        "\n",
        "This is a short tutorial that demonstrates how to split CIFAR-10/100 data (from Pytorch's data sources) by a **Dirichlet distribution** into multiple (*N*) subsets, which can be used as client/user data partitions for FL research. The main steps are:\n",
        "1. Download raw datasets and do transformation.\n",
        "2. Logically split the whole dataset by label.\n",
        "3. Use numpy.random.dirichlet to generate *N* multinomial distributions (or the parameters thereof, more precisely).\n",
        "4. Use some method to generate *N* integers as the sizes of client datasets.\n",
        "5. Determine the number of instances in each class to be sampled for each client based on the two steps above.\n",
        "6. Class-wise sampling to build each client's dataset.\n"
      ]
    },
    {
      "cell_type": "code",
      "metadata": {
        "colab": {
          "base_uri": "https://localhost:8080/"
        },
        "id": "LGqkp4jz21n_",
        "outputId": "ea7f906a-f323-45f4-e1e3-b404aefaf74c"
      },
      "source": [
        "# check the directory tree and create a dir for the CIFAR dataset\n",
        "!ls -lh\n",
        "!mkdir datasets"
      ],
      "execution_count": 1,
      "outputs": [
        {
          "output_type": "stream",
          "name": "stdout",
          "text": [
            "total 4.0K\n",
            "drwxr-xr-x 1 root root 4.0K Oct  8 13:45 sample_data\n"
          ]
        }
      ]
    },
    {
      "cell_type": "code",
      "metadata": {
        "id": "3j6uOW5xz13P"
      },
      "source": [
        "import torch\n",
        "import torchvision\n",
        "import torchvision.transforms as transforms\n",
        "import numpy as np\n",
        "import random"
      ],
      "execution_count": 2,
      "outputs": []
    },
    {
      "cell_type": "code",
      "metadata": {
        "colab": {
          "base_uri": "https://localhost:8080/",
          "height": 150,
          "referenced_widgets": [
            "0505c17a5fef42a6b8128445bcc4b630",
            "1dd17ecc01db4721bf8745e264332243",
            "f5bbfa4c45a746bca7844a2c812241fb",
            "d55c8b8bf2604faf8dd9cef6aff86e53",
            "b1c51f2a60254ea1ae6735affb7acdbc",
            "1f3a4894061d4efe988b35a0f1e5d7e0",
            "76ca04ef204f4b0eb9123b5d3bd3b339",
            "05e5a68583ab406b98ba59d28daba5d1",
            "931b0873ab3a46b892c4dd3f40a6e9b0",
            "f895070a211b46448ba02436153e247f",
            "381a6e88db8d4e1ea7de2c513395b8c8"
          ]
        },
        "id": "In0QaSDv2mRm",
        "outputId": "56d3779e-e5a8-4096-cd10-9ebf12628c56"
      },
      "source": [
        "# define the image transforms to be applied\n",
        "transform = transforms.Compose(\n",
        "    [transforms.ToTensor(),\n",
        "     transforms.Normalize((0.5, 0.5, 0.5), (0.5, 0.5, 0.5))])\n",
        "\n",
        "# download the data via torchvision\n",
        "# for CIFAR-10\n",
        "trainset = torchvision.datasets.CIFAR10(root='datasets', train=True,\n",
        "                                        download=True, transform=transform)\n",
        "testset = torchvision.datasets.CIFAR10(root='datasets', train=False,\n",
        "                                       download=True, transform=transform)\n",
        "# for CIFAR-100\n",
        "'''\n",
        "trainset = torchvision.datasets.CIFAR100(root='datasets', train=True,\n",
        "                                        download=True, transform=transform)\n",
        "testset = torchvision.datasets.CIFAR100(root='datasets', train=False,\n",
        "                                       download=True, transform=transform)\n",
        "'''\n",
        "\n",
        "data_name = trainset.__class__.__name__  # \"CIFAR10\"/\"CIFAR100\"\n",
        "!ls -lh datasets/"
      ],
      "execution_count": 3,
      "outputs": [
        {
          "output_type": "stream",
          "name": "stdout",
          "text": [
            "Downloading https://www.cs.toronto.edu/~kriz/cifar-10-python.tar.gz to datasets/cifar-10-python.tar.gz\n"
          ]
        },
        {
          "output_type": "display_data",
          "data": {
            "application/vnd.jupyter.widget-view+json": {
              "model_id": "0505c17a5fef42a6b8128445bcc4b630",
              "version_minor": 0,
              "version_major": 2
            },
            "text/plain": [
              "  0%|          | 0/170498071 [00:00<?, ?it/s]"
            ]
          },
          "metadata": {}
        },
        {
          "output_type": "stream",
          "name": "stdout",
          "text": [
            "Extracting datasets/cifar-10-python.tar.gz to datasets\n",
            "Files already downloaded and verified\n",
            "total 163M\n",
            "drwxr-xr-x 2 2156 1103 4.0K Jun  4  2009 cifar-10-batches-py\n",
            "-rw-r--r-- 1 root root 163M Oct 13 09:14 cifar-10-python.tar.gz\n"
          ]
        }
      ]
    },
    {
      "cell_type": "markdown",
      "metadata": {
        "id": "7IhMZwRB0KZy"
      },
      "source": [
        "The codes above is the standard practice of getting the CIFAR dataset under the PyTorch framework, which wraps the data in an object whose class inherits the **torch.utils.data.Dataset** and also defines the **transform** functions (which are applied when the \\_\\_getitem\\_\\_() is called in iteration).\n",
        "\n",
        "The dataset object itself is iterable like a list while the raw data (before any transforms apply) and labels are also stored in the object:"
      ]
    },
    {
      "cell_type": "code",
      "metadata": {
        "colab": {
          "base_uri": "https://localhost:8080/"
        },
        "id": "dNQPoTpmDwFO",
        "outputId": "1551057b-29d5-4947-8b72-ddfa82afdd4f"
      },
      "source": [
        "print(\"Metadata:\")\n",
        "print(trainset)\n",
        "print(trainset.filename)\n",
        "print(trainset.classes)\n",
        "print(\"\\nInputs and labels:\")\n",
        "print(trainset.data.shape)\n",
        "print(len(trainset.targets))\n",
        "print(\"\\nIterating it gets one sample as a tuple (tensor_x, label_y):\")\n",
        "print(trainset[0])"
      ],
      "execution_count": 4,
      "outputs": [
        {
          "output_type": "stream",
          "name": "stdout",
          "text": [
            "Metadata:\n",
            "Dataset CIFAR10\n",
            "    Number of datapoints: 50000\n",
            "    Root location: datasets\n",
            "    Split: Train\n",
            "    StandardTransform\n",
            "Transform: Compose(\n",
            "               ToTensor()\n",
            "               Normalize(mean=(0.5, 0.5, 0.5), std=(0.5, 0.5, 0.5))\n",
            "           )\n",
            "cifar-10-python.tar.gz\n",
            "['airplane', 'automobile', 'bird', 'cat', 'deer', 'dog', 'frog', 'horse', 'ship', 'truck']\n",
            "\n",
            "Inputs and labels:\n",
            "(50000, 32, 32, 3)\n",
            "50000\n",
            "\n",
            "Iterating it gets one sample as a tuple (tensor_x, label_y):\n",
            "(tensor([[[-0.5373, -0.6627, -0.6078,  ...,  0.2392,  0.1922,  0.1608],\n",
            "         [-0.8745, -1.0000, -0.8588,  ..., -0.0353, -0.0667, -0.0431],\n",
            "         [-0.8039, -0.8745, -0.6157,  ..., -0.0745, -0.0588, -0.1451],\n",
            "         ...,\n",
            "         [ 0.6314,  0.5765,  0.5529,  ...,  0.2549, -0.5608, -0.5843],\n",
            "         [ 0.4118,  0.3569,  0.4588,  ...,  0.4431, -0.2392, -0.3490],\n",
            "         [ 0.3882,  0.3176,  0.4039,  ...,  0.6941,  0.1843, -0.0353]],\n",
            "\n",
            "        [[-0.5137, -0.6392, -0.6235,  ...,  0.0353, -0.0196, -0.0275],\n",
            "         [-0.8431, -1.0000, -0.9373,  ..., -0.3098, -0.3490, -0.3176],\n",
            "         [-0.8118, -0.9451, -0.7882,  ..., -0.3412, -0.3412, -0.4275],\n",
            "         ...,\n",
            "         [ 0.3333,  0.2000,  0.2627,  ...,  0.0431, -0.7569, -0.7333],\n",
            "         [ 0.0902, -0.0353,  0.1294,  ...,  0.1608, -0.5137, -0.5843],\n",
            "         [ 0.1294,  0.0118,  0.1137,  ...,  0.4431, -0.0745, -0.2784]],\n",
            "\n",
            "        [[-0.5059, -0.6471, -0.6627,  ..., -0.1529, -0.2000, -0.1922],\n",
            "         [-0.8431, -1.0000, -1.0000,  ..., -0.5686, -0.6078, -0.5529],\n",
            "         [-0.8353, -1.0000, -0.9373,  ..., -0.6078, -0.6078, -0.6706],\n",
            "         ...,\n",
            "         [-0.2471, -0.7333, -0.7961,  ..., -0.4510, -0.9451, -0.8431],\n",
            "         [-0.2471, -0.6706, -0.7647,  ..., -0.2627, -0.7333, -0.7333],\n",
            "         [-0.0902, -0.2627, -0.3176,  ...,  0.0980, -0.3412, -0.4353]]]), 6)\n"
          ]
        }
      ]
    },
    {
      "cell_type": "markdown",
      "metadata": {
        "id": "4ckCpKMk4mQm"
      },
      "source": [
        "Now we first split the whole dataset by label so as to have separate pools of data for each class. Note that the splitting is logical as the code below is only grouping the indices. As a result, the *indices_by_y* is a number-of-classes-long list, where each element is a list of indices of samples in the corresponding class."
      ]
    },
    {
      "cell_type": "code",
      "metadata": {
        "id": "24dtTrAV4kvW"
      },
      "source": [
        "n_classes = len(trainset.classes)  # 10 for CIFAR-10, 100 for CIFAR-100\n",
        "n_clients = 10  # number of client datasets to split into\n",
        "\n",
        "# get data indices by label\n",
        "indices_by_y = [[] for _ in range(n_classes)]\n",
        "for s_id, sample in enumerate(trainset):\n",
        "  indices_by_y[sample[1]].append(s_id)"
      ],
      "execution_count": 5,
      "outputs": []
    },
    {
      "cell_type": "markdown",
      "metadata": {
        "id": "NT_DN3eSCWiR"
      },
      "source": [
        "In this step we define a Dirichlet distribution parameterized by a vector $\\alpha$, which is of the same length as the multinomial distribution parameter vectors we are going to generate. There are three key pieces of logic here:\n",
        "\n",
        "1. Generating a data distribution (with *C* classes) for a client is equivalent to generating a C-dimensional multinomial distribution (parameter vector).\n",
        "2. A Dirichlet distribution, in a *C*-dimensional space, is the distribution over the vectors each of which corresponds to (the parameters of) a multinomial distribution. With a Dirichlet distribution we are actually sampling on the surface of a (*C*-1)-simplex (see the .gif below for a 3-dimensional example).\n",
        "3. The concentration parameter $\\alpha$ controls how likely the generated multinomial distribution deviates from uniform distribution.\n",
        "\n",
        "<p align=\"center\">\n",
        "  <img src=\"https://miro.medium.com/max/875/1*_NdnljMqi8L2_lAYwH3JDQ.gif\" width=\"450\" height=\"450\" />\n",
        "</p>\n",
        "\n",
        "<p align=center>\n",
        "The demo by\n",
        "<a href=\"https://medium.com/@lettier/how-does-lda-work-ill-explain-using-emoji-108abf40fa7d\">Lettier from Medium.com</a>\n",
        "</p>\n",
        "\n",
        "For more theoretically details, see the following blogs and paper:\n",
        "- [Lettier, Your Guide to Latent Dirichlet Allocation](https://medium.com/@lettier/how-does-lda-work-ill-explain-using-emoji-108abf40fa7d)\n",
        "- [S. Liu, Dirichlet distribution - motivating LDA](https://towardsdatascience.com/dirichlet-distribution-a82ab942a879)\n",
        "- [Wikipedia](https://en.wikipedia.org/wiki/Dirichlet_distribution)\n",
        "- [Blei et al., Latent Dirichlet Allocation](https://www.jmlr.org/papers/volume3/blei03a/blei03a.pdf)"
      ]
    },
    {
      "cell_type": "markdown",
      "metadata": {
        "id": "VGUeWTDmHtmd"
      },
      "source": [
        "In the following code block, we call *numpy.random.dirichlet* to generate *N* (number of clients specified) multinomial distributions (or the parameters thereof, more precisely) and also generate *N* integers as the sizes of these client datasets. Then we determine the number of instances in each class to be sampled for each client based on the two steps above."
      ]
    },
    {
      "cell_type": "code",
      "metadata": {
        "id": "KdwwUpqW4rQE",
        "colab": {
          "base_uri": "https://localhost:8080/"
        },
        "outputId": "1c35fcbc-57c7-40c9-af18-fae335dc74e7"
      },
      "source": [
        "# seeds\n",
        "random.seed(10)\n",
        "np.random.seed(22)\n",
        "# generate multinomial distributions from Dirichlet distribution\n",
        "alpha = tuple(1 for _ in range(n_classes))  # concentration parameter\n",
        "client_label_dists = np.random.dirichlet(alpha, n_clients)  # distribution matrix\n",
        "# generate client data size distribution\n",
        "client_data_sizes = [int(len(trainset)/n_clients) for _ in range(n_clients)]\n",
        "# prob * size = counts\n",
        "client_label_counts = np.matmul(client_label_dists, np.diag(client_data_sizes)).astype(int)\n",
        "print(\"label counts by clients:\\n\", client_label_counts)"
      ],
      "execution_count": 6,
      "outputs": [
        {
          "output_type": "stream",
          "name": "stdout",
          "text": [
            "label counts by clients:\n",
            " [[ 157  443  368 1323  126  279  212  792  168 1127]\n",
            " [   5  399  815  663  101    2  717 1536  587  171]\n",
            " [ 525  419  176  343  200  315  436   42  923 1617]\n",
            " [ 656  919   17  113 1205  792  411   79  384  420]\n",
            " [ 365   45  564   98   45 1131 1854  131  135  627]\n",
            " [ 109  753  463  290 1990  611  122   90  383  186]\n",
            " [1242   46  193  126  683  903  699  100 1001    2]\n",
            " [ 229 1584 1472   12  578   92  434  143   88  362]\n",
            " [ 457  342  382  211 1174  156 1069  544  644   16]\n",
            " [ 306 2087  202  771  166   63  466  471   17  446]]\n"
          ]
        }
      ]
    },
    {
      "cell_type": "markdown",
      "metadata": {
        "id": "ZSRSKZGRIk3m"
      },
      "source": [
        "Now, based on the distribution of data for each client (stored in the array *client_label_counts*) we construct each client's dataset by class-wise sampling from the label-associated sample pools, i.e., *indices_by_y*.\n",
        "\n",
        "**Note**: the resulting *subset_indices* are ordered by class label and can be *shuffled*. We do not shuffle here for a clear display of partitioning results."
      ]
    },
    {
      "cell_type": "code",
      "metadata": {
        "id": "Kl5b384h4tRG"
      },
      "source": [
        "# build client datasets by class-wise sampling\n",
        "client_datasets = []\n",
        "for u in range(n_clients):\n",
        "  subset_indices = []\n",
        "  for c in range(n_classes):\n",
        "    subset_indices += random.choices(population=indices_by_y[c], k=client_label_counts[u][c])\n",
        "  # np.random.shuffle(subset_indices)\n",
        "  client_datasets.append(torch.utils.data.Subset(trainset, subset_indices))\n"
      ],
      "execution_count": null,
      "outputs": []
    },
    {
      "cell_type": "markdown",
      "metadata": {
        "id": "QMtATCl0KDCD"
      },
      "source": [
        "The following block visualizes the partitioning result (for CIFAR-10)"
      ]
    },
    {
      "cell_type": "code",
      "metadata": {
        "colab": {
          "base_uri": "https://localhost:8080/",
          "height": 281
        },
        "id": "LqJNdMOV-npg",
        "outputId": "d51ac3c9-ef97-461c-c9d5-be5c409ece76"
      },
      "source": [
        "# display label distribution by client\n",
        "import matplotlib.pyplot as plt\n",
        "shift = 0  # for stacking the bars\n",
        "for c in range(n_classes):\n",
        "  plt.barh(range(n_clients), client_label_counts[:, c], \n",
        "           left=shift, color=np.random.random(size=3))\n",
        "  shift += client_label_counts[:, c]\n",
        "plt.title(\"Label distribution by client (one colour per class)\")\n",
        "plt.ylabel('Client index')\n",
        "plt.show()"
      ],
      "execution_count": 8,
      "outputs": [
        {
          "output_type": "display_data",
          "data": {
            "image/png": "[encoded data removed]",
            "text/plain": [
              "<Figure size 432x288 with 1 Axes>"
            ]
          },
          "metadata": {
            "needs_background": "light"
          }
        }
      ]
    },
    {
      "cell_type": "markdown",
      "metadata": {
        "id": "ZmaPg2J6LFOD"
      },
      "source": [
        "Now one can wrap these partitioned client datasets into DataLoaders and train local models in an FL style."
      ]
    },
    {
      "cell_type": "code",
      "metadata": {
        "id": "8RUf4bKx2s8m"
      },
      "source": [
        "batch_size = 32\n",
        "client_dataloaders = {}  # id:loader dict\n",
        "for u_id in range(n_clients):\n",
        "  client_dataloaders[u_id] = torch.utils.data.DataLoader(client_datasets[u_id], \n",
        "                                                         batch_size=batch_size,\n",
        "                                                         shuffle=False, \n",
        "                                                         num_workers=1)"
      ],
      "execution_count": null,
      "outputs": []
    }
  ]
}