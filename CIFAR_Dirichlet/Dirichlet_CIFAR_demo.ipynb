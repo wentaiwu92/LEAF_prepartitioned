{
  "nbformat": 4,
  "nbformat_minor": 0,
  "metadata": {
    "colab": {
      "name": "Dirichlet_CIFAR_demo.ipynb",
      "provenance": [],
      "collapsed_sections": []
    },
    "kernelspec": {
      "name": "python3",
      "display_name": "Python 3"
    },
    "language_info": {
      "name": "python"
    },
    "widgets": {
      "application/vnd.jupyter.widget-state+json": {
        "d72448d30c524e129c1e611191915593": {
          "model_module": "@jupyter-widgets/controls",
          "model_name": "HBoxModel",
          "model_module_version": "1.5.0",
          "state": {
            "_view_name": "HBoxView",
            "_dom_classes": [],
            "_model_name": "HBoxModel",
            "_view_module": "@jupyter-widgets/controls",
            "_model_module_version": "1.5.0",
            "_view_count": null,
            "_view_module_version": "1.5.0",
            "box_style": "",
            "layout": "IPY_MODEL_0bcf386abeec4d77b29d7f0e18b7fc4d",
            "_model_module": "@jupyter-widgets/controls",
            "children": [
              "IPY_MODEL_199dc12bff6c4b8a811a5c20cc47fce1",
              "IPY_MODEL_e43a4471b06e41e3b30b97af89082fb5",
              "IPY_MODEL_6ce86061268c4e3da8f810d87310ba65"
            ]
          }
        },
        "0bcf386abeec4d77b29d7f0e18b7fc4d": {
          "model_module": "@jupyter-widgets/base",
          "model_name": "LayoutModel",
          "model_module_version": "1.2.0",
          "state": {
            "_view_name": "LayoutView",
            "grid_template_rows": null,
            "right": null,
            "justify_content": null,
            "_view_module": "@jupyter-widgets/base",
            "overflow": null,
            "_model_module_version": "1.2.0",
            "_view_count": null,
            "flex_flow": null,
            "width": null,
            "min_width": null,
            "border": null,
            "align_items": null,
            "bottom": null,
            "_model_module": "@jupyter-widgets/base",
            "top": null,
            "grid_column": null,
            "overflow_y": null,
            "overflow_x": null,
            "grid_auto_flow": null,
            "grid_area": null,
            "grid_template_columns": null,
            "flex": null,
            "_model_name": "LayoutModel",
            "justify_items": null,
            "grid_row": null,
            "max_height": null,
            "align_content": null,
            "visibility": null,
            "align_self": null,
            "height": null,
            "min_height": null,
            "padding": null,
            "grid_auto_rows": null,
            "grid_gap": null,
            "max_width": null,
            "order": null,
            "_view_module_version": "1.2.0",
            "grid_template_areas": null,
            "object_position": null,
            "object_fit": null,
            "grid_auto_columns": null,
            "margin": null,
            "display": null,
            "left": null
          }
        },
        "199dc12bff6c4b8a811a5c20cc47fce1": {
          "model_module": "@jupyter-widgets/controls",
          "model_name": "HTMLModel",
          "model_module_version": "1.5.0",
          "state": {
            "_view_name": "HTMLView",
            "style": "IPY_MODEL_b28f6285adfc494d9058363214dca3e8",
            "_dom_classes": [],
            "description": "",
            "_model_name": "HTMLModel",
            "placeholder": "​",
            "_view_module": "@jupyter-widgets/controls",
            "_model_module_version": "1.5.0",
            "value": "",
            "_view_count": null,
            "_view_module_version": "1.5.0",
            "description_tooltip": null,
            "_model_module": "@jupyter-widgets/controls",
            "layout": "IPY_MODEL_853bc51f42424c189c9445a03f6f21c3"
          }
        },
        "e43a4471b06e41e3b30b97af89082fb5": {
          "model_module": "@jupyter-widgets/controls",
          "model_name": "FloatProgressModel",
          "model_module_version": "1.5.0",
          "state": {
            "_view_name": "ProgressView",
            "style": "IPY_MODEL_335543e90bf54edc887ddc21cbb72c80",
            "_dom_classes": [],
            "description": "",
            "_model_name": "FloatProgressModel",
            "bar_style": "success",
            "max": 170498071,
            "_view_module": "@jupyter-widgets/controls",
            "_model_module_version": "1.5.0",
            "value": 170498071,
            "_view_count": null,
            "_view_module_version": "1.5.0",
            "orientation": "horizontal",
            "min": 0,
            "description_tooltip": null,
            "_model_module": "@jupyter-widgets/controls",
            "layout": "IPY_MODEL_97d7c3ac094d480596098ce7decc48be"
          }
        },
        "6ce86061268c4e3da8f810d87310ba65": {
          "model_module": "@jupyter-widgets/controls",
          "model_name": "HTMLModel",
          "model_module_version": "1.5.0",
          "state": {
            "_view_name": "HTMLView",
            "style": "IPY_MODEL_1f2634b2429e457aa039311bcda5038f",
            "_dom_classes": [],
            "description": "",
            "_model_name": "HTMLModel",
            "placeholder": "​",
            "_view_module": "@jupyter-widgets/controls",
            "_model_module_version": "1.5.0",
            "value": " 170499072/? [00:02&lt;00:00, 67364601.50it/s]",
            "_view_count": null,
            "_view_module_version": "1.5.0",
            "description_tooltip": null,
            "_model_module": "@jupyter-widgets/controls",
            "layout": "IPY_MODEL_9a777bd32fa0463c9da08a5a0ef44726"
          }
        },
        "b28f6285adfc494d9058363214dca3e8": {
          "model_module": "@jupyter-widgets/controls",
          "model_name": "DescriptionStyleModel",
          "model_module_version": "1.5.0",
          "state": {
            "_view_name": "StyleView",
            "_model_name": "DescriptionStyleModel",
            "description_width": "",
            "_view_module": "@jupyter-widgets/base",
            "_model_module_version": "1.5.0",
            "_view_count": null,
            "_view_module_version": "1.2.0",
            "_model_module": "@jupyter-widgets/controls"
          }
        },
        "853bc51f42424c189c9445a03f6f21c3": {
          "model_module": "@jupyter-widgets/base",
          "model_name": "LayoutModel",
          "model_module_version": "1.2.0",
          "state": {
            "_view_name": "LayoutView",
            "grid_template_rows": null,
            "right": null,
            "justify_content": null,
            "_view_module": "@jupyter-widgets/base",
            "overflow": null,
            "_model_module_version": "1.2.0",
            "_view_count": null,
            "flex_flow": null,
            "width": null,
            "min_width": null,
            "border": null,
            "align_items": null,
            "bottom": null,
            "_model_module": "@jupyter-widgets/base",
            "top": null,
            "grid_column": null,
            "overflow_y": null,
            "overflow_x": null,
            "grid_auto_flow": null,
            "grid_area": null,
            "grid_template_columns": null,
            "flex": null,
            "_model_name": "LayoutModel",
            "justify_items": null,
            "grid_row": null,
            "max_height": null,
            "align_content": null,
            "visibility": null,
            "align_self": null,
            "height": null,
            "min_height": null,
            "padding": null,
            "grid_auto_rows": null,
            "grid_gap": null,
            "max_width": null,
            "order": null,
            "_view_module_version": "1.2.0",
            "grid_template_areas": null,
            "object_position": null,
            "object_fit": null,
            "grid_auto_columns": null,
            "margin": null,
            "display": null,
            "left": null
          }
        },
        "335543e90bf54edc887ddc21cbb72c80": {
          "model_module": "@jupyter-widgets/controls",
          "model_name": "ProgressStyleModel",
          "model_module_version": "1.5.0",
          "state": {
            "_view_name": "StyleView",
            "_model_name": "ProgressStyleModel",
            "description_width": "",
            "_view_module": "@jupyter-widgets/base",
            "_model_module_version": "1.5.0",
            "_view_count": null,
            "_view_module_version": "1.2.0",
            "bar_color": null,
            "_model_module": "@jupyter-widgets/controls"
          }
        },
        "97d7c3ac094d480596098ce7decc48be": {
          "model_module": "@jupyter-widgets/base",
          "model_name": "LayoutModel",
          "model_module_version": "1.2.0",
          "state": {
            "_view_name": "LayoutView",
            "grid_template_rows": null,
            "right": null,
            "justify_content": null,
            "_view_module": "@jupyter-widgets/base",
            "overflow": null,
            "_model_module_version": "1.2.0",
            "_view_count": null,
            "flex_flow": null,
            "width": null,
            "min_width": null,
            "border": null,
            "align_items": null,
            "bottom": null,
            "_model_module": "@jupyter-widgets/base",
            "top": null,
            "grid_column": null,
            "overflow_y": null,
            "overflow_x": null,
            "grid_auto_flow": null,
            "grid_area": null,
            "grid_template_columns": null,
            "flex": null,
            "_model_name": "LayoutModel",
            "justify_items": null,
            "grid_row": null,
            "max_height": null,
            "align_content": null,
            "visibility": null,
            "align_self": null,
            "height": null,
            "min_height": null,
            "padding": null,
            "grid_auto_rows": null,
            "grid_gap": null,
            "max_width": null,
            "order": null,
            "_view_module_version": "1.2.0",
            "grid_template_areas": null,
            "object_position": null,
            "object_fit": null,
            "grid_auto_columns": null,
            "margin": null,
            "display": null,
            "left": null
          }
        },
        "1f2634b2429e457aa039311bcda5038f": {
          "model_module": "@jupyter-widgets/controls",
          "model_name": "DescriptionStyleModel",
          "model_module_version": "1.5.0",
          "state": {
            "_view_name": "StyleView",
            "_model_name": "DescriptionStyleModel",
            "description_width": "",
            "_view_module": "@jupyter-widgets/base",
            "_model_module_version": "1.5.0",
            "_view_count": null,
            "_view_module_version": "1.2.0",
            "_model_module": "@jupyter-widgets/controls"
          }
        },
        "9a777bd32fa0463c9da08a5a0ef44726": {
          "model_module": "@jupyter-widgets/base",
          "model_name": "LayoutModel",
          "model_module_version": "1.2.0",
          "state": {
            "_view_name": "LayoutView",
            "grid_template_rows": null,
            "right": null,
            "justify_content": null,
            "_view_module": "@jupyter-widgets/base",
            "overflow": null,
            "_model_module_version": "1.2.0",
            "_view_count": null,
            "flex_flow": null,
            "width": null,
            "min_width": null,
            "border": null,
            "align_items": null,
            "bottom": null,
            "_model_module": "@jupyter-widgets/base",
            "top": null,
            "grid_column": null,
            "overflow_y": null,
            "overflow_x": null,
            "grid_auto_flow": null,
            "grid_area": null,
            "grid_template_columns": null,
            "flex": null,
            "_model_name": "LayoutModel",
            "justify_items": null,
            "grid_row": null,
            "max_height": null,
            "align_content": null,
            "visibility": null,
            "align_self": null,
            "height": null,
            "min_height": null,
            "padding": null,
            "grid_auto_rows": null,
            "grid_gap": null,
            "max_width": null,
            "order": null,
            "_view_module_version": "1.2.0",
            "grid_template_areas": null,
            "object_position": null,
            "object_fit": null,
            "grid_auto_columns": null,
            "margin": null,
            "display": null,
            "left": null
          }
        }
      }
    }
  },
  "cells": [
    {
      "cell_type": "markdown",
      "metadata": {
        "id": "7qkjQ0fdEQyK"
      },
      "source": [
        "###Partitioning CIFAR-10/100 by Dirichle distribution\n",
        "\n",
        "This is a short tutorial that demonstrates how to split CIFAR-10/100 data (from Pytorch's data sources) by a **Dirichlet distribution** into multiple (*N*) subsets, which can be used as client/user data partitions for FL research. The main steps are:\n",
        "- Download raw datasets and do transformation.\n",
        "- Logically split the whole dataset by label.\n",
        "- Use numpy.random.dirichlet to generate *N* multinomial distributions (or the parameters thereof, more precisely).\n",
        "- Use some method to generate *N* integers as the sizes of client datasets.\n",
        "- Determine the number of instances in each class to be sampled for each client based on the two steps above.\n",
        "- Class-wise sampling to build each client's dataset.\n"
      ]
    },
    {
      "cell_type": "code",
      "metadata": {
        "colab": {
          "base_uri": "https://localhost:8080/"
        },
        "id": "LGqkp4jz21n_",
        "outputId": "9d936678-2d14-4aae-aa1d-f23346cd4e86"
      },
      "source": [
        "# check the directory tree and create a dir for the CIFAR dataset\n",
        "!ls -lh\n",
        "!mkdir datasets"
      ],
      "execution_count": null,
      "outputs": [
        {
          "output_type": "stream",
          "name": "stdout",
          "text": [
            "total 4.0K\n",
            "drwxr-xr-x 1 root root 4.0K Oct  8 13:45 sample_data\n"
          ]
        }
      ]
    },
    {
      "cell_type": "code",
      "metadata": {
        "id": "3j6uOW5xz13P"
      },
      "source": [
        "import torch\n",
        "import torchvision\n",
        "import torchvision.transforms as transforms\n",
        "import numpy as np\n",
        "import random"
      ],
      "execution_count": null,
      "outputs": []
    },
    {
      "cell_type": "code",
      "metadata": {
        "colab": {
          "base_uri": "https://localhost:8080/",
          "height": 150,
          "referenced_widgets": [
            "d72448d30c524e129c1e611191915593",
            "0bcf386abeec4d77b29d7f0e18b7fc4d",
            "199dc12bff6c4b8a811a5c20cc47fce1",
            "e43a4471b06e41e3b30b97af89082fb5",
            "6ce86061268c4e3da8f810d87310ba65",
            "b28f6285adfc494d9058363214dca3e8",
            "853bc51f42424c189c9445a03f6f21c3",
            "335543e90bf54edc887ddc21cbb72c80",
            "97d7c3ac094d480596098ce7decc48be",
            "1f2634b2429e457aa039311bcda5038f",
            "9a777bd32fa0463c9da08a5a0ef44726"
          ]
        },
        "id": "In0QaSDv2mRm",
        "outputId": "563d1038-6108-44c1-a5b3-83c7a260d67c"
      },
      "source": [
        "# define the image transforms to be applied\n",
        "transform = transforms.Compose(\n",
        "    [transforms.ToTensor(),\n",
        "     transforms.Normalize((0.5, 0.5, 0.5), (0.5, 0.5, 0.5))])\n",
        "\n",
        "# download the data via torchvision\n",
        "# for CIFAR-10\n",
        "trainset = torchvision.datasets.CIFAR10(root='datasets', train=True,\n",
        "                                        download=True, transform=transform)\n",
        "testset = torchvision.datasets.CIFAR10(root='datasets', train=False,\n",
        "                                       download=True, transform=transform)\n",
        "# for CIFAR-100\n",
        "'''\n",
        "trainset = torchvision.datasets.CIFAR100(root='datasets', train=True,\n",
        "                                        download=True, transform=transform)\n",
        "testset = torchvision.datasets.CIFAR100(root='datasets', train=False,\n",
        "                                       download=True, transform=transform)\n",
        "'''\n",
        "\n",
        "data_name = trainset.__class__.__name__  # \"CIFAR10\"/\"CIFAR100\"\n",
        "!ls -lh datasets/"
      ],
      "execution_count": null,
      "outputs": [
        {
          "output_type": "stream",
          "name": "stdout",
          "text": [
            "Downloading https://www.cs.toronto.edu/~kriz/cifar-10-python.tar.gz to datasets/cifar-10-python.tar.gz\n"
          ]
        },
        {
          "output_type": "display_data",
          "data": {
            "application/vnd.jupyter.widget-view+json": {
              "model_id": "d72448d30c524e129c1e611191915593",
              "version_minor": 0,
              "version_major": 2
            },
            "text/plain": [
              "  0%|          | 0/170498071 [00:00<?, ?it/s]"
            ]
          },
          "metadata": {}
        },
        {
          "output_type": "stream",
          "name": "stdout",
          "text": [
            "Extracting datasets/cifar-10-python.tar.gz to datasets\n",
            "Files already downloaded and verified\n",
            "total 163M\n",
            "drwxr-xr-x 2 2156 1103 4.0K Jun  4  2009 cifar-10-batches-py\n",
            "-rw-r--r-- 1 root root 163M Oct 12 14:08 cifar-10-python.tar.gz\n"
          ]
        }
      ]
    },
    {
      "cell_type": "markdown",
      "metadata": {
        "id": "7IhMZwRB0KZy"
      },
      "source": [
        "The codes above is the standard practice of getting the CIFAR dataset under the PyTorch framework, which wraps the data in an object whose class inherits the **torch.utils.data.Dataset** and also defines the **transform** functions (which are applied when the \\_\\_getitem\\_\\_() is called in iteration).\n",
        "\n",
        "The dataset object itself is iterable like a list while the raw data (before any transforms apply) and labels are also stored in the object:"
      ]
    },
    {
      "cell_type": "code",
      "metadata": {
        "colab": {
          "base_uri": "https://localhost:8080/"
        },
        "id": "dNQPoTpmDwFO",
        "outputId": "59aa5fa3-d776-41ef-ef09-70b06b07456b"
      },
      "source": [
        "print(\"Metadata:\")\n",
        "print(trainset)\n",
        "print(trainset.filename)\n",
        "print(trainset.classes)\n",
        "print(\"\\nInputs and labels:\")\n",
        "print(trainset.data.shape)\n",
        "print(len(trainset.targets))\n",
        "print(\"\\nIterating it gets one sample as a tuple (tensor_x, label_y):\")\n",
        "print(trainset[0])"
      ],
      "execution_count": null,
      "outputs": [
        {
          "output_type": "stream",
          "name": "stdout",
          "text": [
            "Metadata:\n",
            "Dataset CIFAR10\n",
            "    Number of datapoints: 50000\n",
            "    Root location: datasets\n",
            "    Split: Train\n",
            "    StandardTransform\n",
            "Transform: Compose(\n",
            "               ToTensor()\n",
            "               Normalize(mean=(0.5, 0.5, 0.5), std=(0.5, 0.5, 0.5))\n",
            "           )\n",
            "cifar-10-python.tar.gz\n",
            "['airplane', 'automobile', 'bird', 'cat', 'deer', 'dog', 'frog', 'horse', 'ship', 'truck']\n",
            "\n",
            "Inputs and labels:\n",
            "(50000, 32, 32, 3)\n",
            "50000\n",
            "\n",
            "Iterating it gets one sample as a tuple (tensor_x, label_y):\n",
            "(tensor([[[-0.5373, -0.6627, -0.6078,  ...,  0.2392,  0.1922,  0.1608],\n",
            "         [-0.8745, -1.0000, -0.8588,  ..., -0.0353, -0.0667, -0.0431],\n",
            "         [-0.8039, -0.8745, -0.6157,  ..., -0.0745, -0.0588, -0.1451],\n",
            "         ...,\n",
            "         [ 0.6314,  0.5765,  0.5529,  ...,  0.2549, -0.5608, -0.5843],\n",
            "         [ 0.4118,  0.3569,  0.4588,  ...,  0.4431, -0.2392, -0.3490],\n",
            "         [ 0.3882,  0.3176,  0.4039,  ...,  0.6941,  0.1843, -0.0353]],\n",
            "\n",
            "        [[-0.5137, -0.6392, -0.6235,  ...,  0.0353, -0.0196, -0.0275],\n",
            "         [-0.8431, -1.0000, -0.9373,  ..., -0.3098, -0.3490, -0.3176],\n",
            "         [-0.8118, -0.9451, -0.7882,  ..., -0.3412, -0.3412, -0.4275],\n",
            "         ...,\n",
            "         [ 0.3333,  0.2000,  0.2627,  ...,  0.0431, -0.7569, -0.7333],\n",
            "         [ 0.0902, -0.0353,  0.1294,  ...,  0.1608, -0.5137, -0.5843],\n",
            "         [ 0.1294,  0.0118,  0.1137,  ...,  0.4431, -0.0745, -0.2784]],\n",
            "\n",
            "        [[-0.5059, -0.6471, -0.6627,  ..., -0.1529, -0.2000, -0.1922],\n",
            "         [-0.8431, -1.0000, -1.0000,  ..., -0.5686, -0.6078, -0.5529],\n",
            "         [-0.8353, -1.0000, -0.9373,  ..., -0.6078, -0.6078, -0.6706],\n",
            "         ...,\n",
            "         [-0.2471, -0.7333, -0.7961,  ..., -0.4510, -0.9451, -0.8431],\n",
            "         [-0.2471, -0.6706, -0.7647,  ..., -0.2627, -0.7333, -0.7333],\n",
            "         [-0.0902, -0.2627, -0.3176,  ...,  0.0980, -0.3412, -0.4353]]]), 6)\n"
          ]
        }
      ]
    },
    {
      "cell_type": "markdown",
      "metadata": {
        "id": "4ckCpKMk4mQm"
      },
      "source": [
        "Now we first split the whole dataset by label so as to have separate pools of data for each class. Note that the splitting is logical as the code below is only grouping the indices. As a result, the *indices_by_y* is a number-of-classes-long list, where each element is a list of indices of samples in the corresponding class."
      ]
    },
    {
      "cell_type": "code",
      "metadata": {
        "id": "24dtTrAV4kvW"
      },
      "source": [
        "n_classes = len(trainset.classes)  # 10 for CIFAR-10, 100 for CIFAR-100\n",
        "n_clients = 10  # number of client datasets to split into\n",
        "\n",
        "# get data indices by label\n",
        "indices_by_y = [[] for _ in range(n_classes)]\n",
        "for s_id, sample in enumerate(trainset):\n",
        "  indices_by_y[sample[1]].append(s_id)"
      ],
      "execution_count": null,
      "outputs": []
    },
    {
      "cell_type": "markdown",
      "metadata": {
        "id": "NT_DN3eSCWiR"
      },
      "source": [
        "In this step we define a Dirichlet distribution parameterized by a vector $\\alpha$, which is of the same length as the multinomial distribution parameter vectors we are going to generate. There are three key pieces of logic here:\n",
        "\n",
        "1. Generating a data distribution (with *C* classes) for a client is equivalent to generating a C-dimensional multinomial distribution (parameter vector).\n",
        "2. A Dirichlet distribution, in a *C*-dimensional space, is the distribution over the vectors each of which corresponds to (the parameters of) a multinomial distribution. With a Dirichlet distribution we are actually sampling on the surface of a (*C*-1)-simplex (see the .gif below for a 3-dimensional example).\n",
        "3. The concentration parameter $\\alpha$ controls how likely the generated multinomial distribution deviates from uniform distribution.\n",
        "\n",
        "<p align=\"center\">\n",
        "  <img src=\"https://miro.medium.com/max/875/1*_NdnljMqi8L2_lAYwH3JDQ.gif\" width=\"450\" height=\"450\" />\n",
        "</p>\n",
        "\n",
        "<p align=center>\n",
        "The demo by\n",
        "<a href=\"https://medium.com/@lettier/how-does-lda-work-ill-explain-using-emoji-108abf40fa7d\">Lettier from Medium.com</a>\n",
        "</p>\n",
        "\n",
        "For more theoretically details, see the following blogs and paper:\n",
        "- [Lettier, Your Guide to Latent Dirichlet Allocation](https://medium.com/@lettier/how-does-lda-work-ill-explain-using-emoji-108abf40fa7d)\n",
        "- [S. Liu, Dirichlet distribution - motivating LDA](https://towardsdatascience.com/dirichlet-distribution-a82ab942a879)\n",
        "- [Wikipedia](https://en.wikipedia.org/wiki/Dirichlet_distribution)\n",
        "- [Blei et al., Latent Dirichlet Allocation](https://www.jmlr.org/papers/volume3/blei03a/blei03a.pdf)"
      ]
    },
    {
      "cell_type": "markdown",
      "metadata": {
        "id": "VGUeWTDmHtmd"
      },
      "source": [
        "In the following code block, we call *numpy.random.dirichlet* to generate *N* (number of clients specified) multinomial distributions (or the parameters thereof, more precisely) and also generate *N* integers as the sizes of these client datasets. Then we determine the number of instances in each class to be sampled for each client based on the two steps above."
      ]
    },
    {
      "cell_type": "code",
      "metadata": {
        "id": "KdwwUpqW4rQE",
        "colab": {
          "base_uri": "https://localhost:8080/"
        },
        "outputId": "abe25894-46de-4a11-8752-8255c3ff5d4d"
      },
      "source": [
        "# seeds\n",
        "random.seed(10)\n",
        "np.random.seed(22)\n",
        "# generate multinomial distributions from Dirichlet distribution\n",
        "alpha = tuple(1 for _ in range(n_classes))  # concentration parameter\n",
        "client_label_dists = np.random.dirichlet(alpha, n_clients)  # distribution matrix\n",
        "# generate client data size distribution\n",
        "client_data_sizes = [int(len(trainset)/n_clients) for _ in range(n_clients)]\n",
        "# prob * size = counts\n",
        "client_label_counts = np.matmul(client_label_dists, np.diag(client_data_sizes)).astype(int)\n",
        "print(\"label counts by clients:\\n\", client_label_counts)"
      ],
      "execution_count": null,
      "outputs": [
        {
          "output_type": "stream",
          "name": "stdout",
          "text": [
            "label distribution by clients:\n",
            " [[1.00807407e-01 7.30705189e-02 9.37000140e-02 1.27494807e-02\n",
            "  2.87886062e-02 2.66752380e-01 1.50905777e-02 3.33543582e-01\n",
            "  1.46262105e-02 6.08712232e-02]\n",
            " [8.67125714e-02 1.02281615e-03 2.20341147e-01 3.44273641e-01\n",
            "  5.53434675e-02 5.00862841e-02 1.09073151e-02 5.31800746e-02\n",
            "  3.73190919e-02 1.40813591e-01]\n",
            " [3.69765408e-03 3.21978724e-01 2.00537978e-02 8.82050595e-02\n",
            "  2.47595290e-02 2.13282698e-01 2.24293624e-01 5.27476094e-02\n",
            "  1.97905292e-02 3.11907749e-02]\n",
            " [1.99055335e-02 2.67663230e-01 4.32589399e-02 2.27232362e-01\n",
            "  2.83018311e-03 1.00424514e-01 7.24147552e-02 3.48846278e-03\n",
            "  1.96668171e-01 6.61138484e-02]\n",
            " [2.89260279e-01 9.34626506e-02 1.36886586e-01 7.11726189e-02\n",
            "  5.23009448e-02 1.11328244e-02 6.92439087e-04 1.04922892e-02\n",
            "  3.31379748e-01 3.21962037e-03]\n",
            " [2.44432165e-04 9.08618368e-04 7.30547763e-02 1.13583608e-02\n",
            "  4.43010647e-02 3.32557270e-01 6.96547500e-02 3.35521410e-02\n",
            "  3.88613251e-02 3.95507262e-01]\n",
            " [1.12431413e-02 8.76620366e-02 2.02542713e-01 2.69167436e-02\n",
            "  1.52667048e-01 2.25532610e-01 1.01775205e-01 1.26513238e-01\n",
            "  1.42591668e-02 5.08880969e-02]\n",
            " [1.64737309e-02 5.00720585e-02 3.10545691e-01 4.41207567e-02\n",
            "  3.67046916e-02 1.69087339e-01 1.22809638e-01 1.13207891e-01\n",
            "  1.27240338e-01 9.73786660e-03]\n",
            " [8.47649686e-03 3.77059782e-02 1.85685051e-01 3.28813693e-03\n",
            "  1.73385375e-01 6.42129644e-02 5.85251851e-02 2.06156980e-01\n",
            "  5.83797427e-03 2.56725858e-01]\n",
            " [1.14161794e-01 9.27768926e-02 1.95120939e-01 1.74399435e-01\n",
            "  1.80634284e-02 2.60280100e-01 1.97763039e-02 7.62082667e-02\n",
            "  4.20190015e-02 7.19383889e-03]]\n",
            "data size distribution by clients:\n",
            " [5000, 5000, 5000, 5000, 5000, 5000, 5000, 5000, 5000, 5000]\n",
            "label counts by clients:\n",
            " [[ 504  365  468   63  143 1333   75 1667   73  304]\n",
            " [ 433    5 1101 1721  276  250   54  265  186  704]\n",
            " [  18 1609  100  441  123 1066 1121  263   98  155]\n",
            " [  99 1338  216 1136   14  502  362   17  983  330]\n",
            " [1446  467  684  355  261   55    3   52 1656   16]\n",
            " [   1    4  365   56  221 1662  348  167  194 1977]\n",
            " [  56  438 1012  134  763 1127  508  632   71  254]\n",
            " [  82  250 1552  220  183  845  614  566  636   48]\n",
            " [  42  188  928   16  866  321  292 1030   29 1283]\n",
            " [ 570  463  975  871   90 1301   98  381  210   35]]\n"
          ]
        }
      ]
    },
    {
      "cell_type": "markdown",
      "metadata": {
        "id": "ZSRSKZGRIk3m"
      },
      "source": [
        "Now, based on the distribution of data for each client (stored in the array *client_label_counts*) we construct each client's dataset by class-wise sampling from the label-associated sample pools, i.e., *indices_by_y*.\n",
        "\n",
        "**Note**: the resulting *subset_indices* are ordered by class label and can be *shuffled*. We do not shuffle here for a clear display of partitioning results."
      ]
    },
    {
      "cell_type": "code",
      "metadata": {
        "id": "Kl5b384h4tRG"
      },
      "source": [
        "# build client datasets by class-wise sampling\n",
        "client_datasets = []\n",
        "for u in range(n_clients):\n",
        "  subset_indices = []\n",
        "  for c in range(n_classes):\n",
        "    subset_indices += random.choices(population=indices_by_y[c], k=client_label_counts[u][c])\n",
        "  # np.random.shuffle(subset_indices)\n",
        "  client_datasets.append(torch.utils.data.Subset(trainset, subset_indices))\n"
      ],
      "execution_count": null,
      "outputs": []
    },
    {
      "cell_type": "markdown",
      "metadata": {
        "id": "QMtATCl0KDCD"
      },
      "source": [
        "The following block shows the partitioning results like this (for CIFAR-10):\n",
        "\n",
        "![download.png](data:image/png;base64,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)\n"
      ]
    },
    {
      "cell_type": "code",
      "metadata": {
        "colab": {
          "base_uri": "https://localhost:8080/",
          "height": 281
        },
        "id": "LqJNdMOV-npg",
        "outputId": "979528f9-7bc6-45c7-b457-83d63a623e17"
      },
      "source": [
        "# display label distribution by client\n",
        "import matplotlib.pyplot as plt\n",
        "shift = 0  # for stacking the bars\n",
        "for c in range(n_classes):\n",
        "  plt.barh(range(n_clients), client_label_counts[:, c], \n",
        "           left=shift, color=np.random.random(size=3))\n",
        "  shift += client_label_counts[:, c]\n",
        "plt.title(\"Label distribution by client (one colour per class)\")\n",
        "plt.ylabel('Client index')\n",
        "plt.show()"
      ],
      "execution_count": null,
      "outputs": [
        {
          "output_type": "display_data",
          "data": {
            "image/png": "[encoded data removed]",
            "text/plain": [
              "<Figure size 432x288 with 1 Axes>"
            ]
          },
          "metadata": {
            "needs_background": "light"
          }
        }
      ]
    },
    {
      "cell_type": "markdown",
      "metadata": {
        "id": "ZmaPg2J6LFOD"
      },
      "source": [
        "Now one can wrap these partitioned client datasets into DataLoaders and train local models in an FL style."
      ]
    },
    {
      "cell_type": "code",
      "metadata": {
        "id": "8RUf4bKx2s8m"
      },
      "source": [
        "batch_size = 32\n",
        "client_dataloaders = {}  # id:loader dict\n",
        "for u_id in range(n_clients):\n",
        "  client_dataloaders[u_id] = torch.utils.data.DataLoader(client_datasets[u_id], \n",
        "                                                         batch_size=batch_size,\n",
        "                                                         shuffle=False, \n",
        "                                                         num_workers=1)"
      ],
      "execution_count": null,
      "outputs": []
    }
  ]
}