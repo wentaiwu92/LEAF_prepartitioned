{
  "nbformat": 4,
  "nbformat_minor": 0,
  "metadata": {
    "colab": {
      "name": "FEMNIST_loader_demo.ipynb",
      "provenance": [],
      "collapsed_sections": []
    },
    "kernelspec": {
      "name": "python3",
      "display_name": "Python 3"
    },
    "language_info": {
      "name": "python"
    }
  },
  "cells": [
    {
      "cell_type": "markdown",
      "metadata": {
        "id": "UHdXmsRcNL6F"
      },
      "source": [
        "### FEMNIST data loading demo\n",
        "\n",
        "The demo is showing how to load pre-partitioned (by writer) FEMNIST data using Pytorch (torch.utils.data.Dataset) and the pre-partitioned data in .json from this [repo](https://github.com/wingter562/LEAF_prepartitioned/tree/main/femnist_sf02), which was obtained by running the [LEAF script](https://github.com/TalwalkarLab/leaf/tree/master/data/femnist) for FEMNIST."
      ]
    },
    {
      "cell_type": "code",
      "metadata": {
        "colab": {
          "base_uri": "https://localhost:8080/"
        },
        "id": "i8tV4tuONEgW",
        "outputId": "e2330fe0-d9c7-42b5-8e7a-b19a7eb2e010"
      },
      "source": [
        "# check the directory tree and create a dir for the CIFAR dataset\n",
        "!ls -lh\n",
        "!mkdir datasets"
      ],
      "execution_count": 1,
      "outputs": [
        {
          "output_type": "stream",
          "name": "stdout",
          "text": [
            "total 4.0K\n",
            "drwxr-xr-x 1 root root 4.0K Oct  8 13:45 sample_data\n"
          ]
        }
      ]
    },
    {
      "cell_type": "code",
      "metadata": {
        "id": "k0-8ZP3QPO9z"
      },
      "source": [
        "# import packages\n",
        "import torch\n",
        "import torchvision\n",
        "import torchvision.transforms as transforms\n",
        "import numpy as np\n",
        "import random"
      ],
      "execution_count": 2,
      "outputs": []
    },
    {
      "cell_type": "code",
      "metadata": {
        "colab": {
          "base_uri": "https://localhost:8080/"
        },
        "id": "pmZgxSh2Pi59",
        "outputId": "2c3e0758-1b92-421d-d549-51d506e1c0f9"
      },
      "source": [
        "# download pre-partitioned data, which is a zip of two dirs (train and test) each of which\n",
        "# contains multiple files of .json data\n",
        "%cd /content/datasets/\n",
        "!git clone https://github.com/wingter562/LEAF_prepartitioned.git\n",
        "# unzip\n",
        "%cd LEAF_prepartitioned/femnist_sf02/\n",
        "!unzip -q femnist_sf02.zip\n",
        "!ls -lh"
      ],
      "execution_count": 3,
      "outputs": [
        {
          "output_type": "stream",
          "name": "stdout",
          "text": [
            "/content/datasets\n",
            "Cloning into 'LEAF_prepartitioned'...\n",
            "remote: Enumerating objects: 69, done.\u001b[K\n",
            "remote: Counting objects: 100% (13/13), done.\u001b[K\n",
            "remote: Compressing objects: 100% (12/12), done.\u001b[K\n",
            "remote: Total 69 (delta 0), reused 4 (delta 0), pack-reused 56\u001b[K\n",
            "Unpacking objects: 100% (69/69), done.\n",
            "/content/datasets/LEAF_prepartitioned/femnist_sf02\n",
            "total 39M\n",
            "-rw-r--r-- 1 root root  39M Oct 21 19:36 femnist_sf02.zip\n",
            "drwxr-xr-x 2 root root 4.0K Oct 20 16:26 test\n",
            "drwxr-xr-x 2 root root 4.0K Oct 20 16:26 train\n"
          ]
        }
      ]
    },
    {
      "cell_type": "markdown",
      "metadata": {
        "id": "DpceRGdTWf5u"
      },
      "source": [
        "Now we use python's json library to parse the .json files into in-memory data structures. See this [repo](https://github.com/wingter562/LEAF_prepartitioned/tree/main/femnist_sf02) for the details on how the user-image data are organized in the .json files. Part of the following source code is extracted from the [LEAF repo](https://github.com/TalwalkarLab/leaf/tree/master/data/femnist)."
      ]
    },
    {
      "cell_type": "code",
      "metadata": {
        "id": "QGpMZkEwWUa1"
      },
      "source": [
        "# A function for parsing all json files in a specified directory\n",
        "# Note that both train/ and test/ dirs may have multiple files to load\n",
        "from collections import defaultdict\n",
        "import os\n",
        "import json\n",
        "\n",
        "def read_dir(data_dir):\n",
        "  clients = []\n",
        "  datasize = 0\n",
        "  groups = []\n",
        "  data = defaultdict(lambda : None)\n",
        "\n",
        "  files = os.listdir(data_dir)\n",
        "  files = [f for f in files if f.endswith('.json')]\n",
        "  for f in files:\n",
        "    file_path = os.path.join(data_dir,f)\n",
        "    print('loading %s...' % file_path)\n",
        "    with open(file_path, 'r') as inf:\n",
        "      cdata = json.load(inf)\n",
        "    #clients.extend(cdata['users'])\n",
        "    datasize += sum(cdata['num_samples'])\n",
        "    if 'hierarchies' in cdata:\n",
        "      groups.extend(cdata['hierarchies'])\n",
        "    data.update(cdata['user_data'])\n",
        "\n",
        "  clients = list(sorted(data.keys()))\n",
        "  return clients, groups, data, datasize"
      ],
      "execution_count": 5,
      "outputs": []
    },
    {
      "cell_type": "markdown",
      "metadata": {
        "id": "Hpl1BAdgUCuf"
      },
      "source": [
        "Now we use the function to load train and test data separately"
      ]
    },
    {
      "cell_type": "code",
      "metadata": {
        "colab": {
          "base_uri": "https://localhost:8080/"
        },
        "id": "t8A3gjArTsAJ",
        "outputId": "e2adc612-d3b3-427f-d285-22fd70599849"
      },
      "source": [
        "# load train and test data separately\n",
        "clients, groups, data_train, size_train = read_dir('train')\n",
        "_, _, data_test, size_test = read_dir('test')\n",
        "# show metadata\n",
        "print('clients:', clients)\n",
        "print('number of clients:', len(clients))\n",
        "print('training data size:', size_train)\n",
        "print('test data size:', size_test)\n",
        "# show data shape\n",
        "print('user data shape x:', np.array(data_train[clients[0]]['x']).shape)\n",
        "print('user data shape y:', np.array(data_train[clients[0]]['y']).shape)"
      ],
      "execution_count": 6,
      "outputs": [
        {
          "output_type": "stream",
          "name": "stdout",
          "text": [
            "loading train/all_data_1_niid_2_train_9.json...\n",
            "loading train/all_data_32_niid_2_train_9.json...\n",
            "loading train/all_data_3_niid_2_train_9.json...\n",
            "loading train/all_data_9_niid_2_train_9.json...\n",
            "loading train/all_data_17_niid_2_train_9.json...\n",
            "loading train/all_data_34_niid_2_train_9.json...\n",
            "loading train/all_data_24_niid_2_train_9.json...\n",
            "loading train/all_data_21_niid_2_train_9.json...\n",
            "loading train/all_data_22_niid_2_train_9.json...\n",
            "loading train/all_data_19_niid_2_train_9.json...\n",
            "loading train/all_data_23_niid_2_train_9.json...\n",
            "loading train/all_data_12_niid_2_train_9.json...\n",
            "loading train/all_data_31_niid_2_train_9.json...\n",
            "loading train/all_data_29_niid_2_train_9.json...\n",
            "loading train/all_data_33_niid_2_train_9.json...\n",
            "loading train/all_data_6_niid_2_train_9.json...\n",
            "loading train/all_data_10_niid_2_train_9.json...\n",
            "loading train/all_data_13_niid_2_train_9.json...\n",
            "loading train/all_data_25_niid_2_train_9.json...\n",
            "loading train/all_data_27_niid_2_train_9.json...\n",
            "loading train/all_data_14_niid_2_train_9.json...\n",
            "loading train/all_data_15_niid_2_train_9.json...\n",
            "loading train/all_data_20_niid_2_train_9.json...\n",
            "loading train/all_data_35_niid_2_train_9.json...\n",
            "loading train/all_data_26_niid_2_train_9.json...\n",
            "loading train/all_data_0_niid_2_train_9.json...\n",
            "loading train/all_data_2_niid_2_train_9.json...\n",
            "loading train/all_data_30_niid_2_train_9.json...\n",
            "loading train/all_data_8_niid_2_train_9.json...\n",
            "loading train/all_data_28_niid_2_train_9.json...\n",
            "loading train/all_data_16_niid_2_train_9.json...\n",
            "loading train/all_data_11_niid_2_train_9.json...\n",
            "loading train/all_data_5_niid_2_train_9.json...\n",
            "loading train/all_data_18_niid_2_train_9.json...\n",
            "loading train/all_data_7_niid_2_train_9.json...\n",
            "loading train/all_data_4_niid_2_train_9.json...\n",
            "loading test/all_data_13_niid_2_test_9.json...\n",
            "loading test/all_data_21_niid_2_test_9.json...\n",
            "loading test/all_data_18_niid_2_test_9.json...\n",
            "loading test/all_data_11_niid_2_test_9.json...\n",
            "loading test/all_data_22_niid_2_test_9.json...\n",
            "loading test/all_data_27_niid_2_test_9.json...\n",
            "loading test/all_data_23_niid_2_test_9.json...\n",
            "loading test/all_data_4_niid_2_test_9.json...\n",
            "loading test/all_data_20_niid_2_test_9.json...\n",
            "loading test/all_data_9_niid_2_test_9.json...\n",
            "loading test/all_data_1_niid_2_test_9.json...\n",
            "loading test/all_data_3_niid_2_test_9.json...\n",
            "loading test/all_data_26_niid_2_test_9.json...\n",
            "loading test/all_data_17_niid_2_test_9.json...\n",
            "loading test/all_data_15_niid_2_test_9.json...\n",
            "loading test/all_data_14_niid_2_test_9.json...\n",
            "loading test/all_data_19_niid_2_test_9.json...\n",
            "loading test/all_data_24_niid_2_test_9.json...\n",
            "loading test/all_data_29_niid_2_test_9.json...\n",
            "loading test/all_data_31_niid_2_test_9.json...\n",
            "loading test/all_data_6_niid_2_test_9.json...\n",
            "loading test/all_data_8_niid_2_test_9.json...\n",
            "loading test/all_data_35_niid_2_test_9.json...\n",
            "loading test/all_data_16_niid_2_test_9.json...\n",
            "loading test/all_data_34_niid_2_test_9.json...\n",
            "loading test/all_data_28_niid_2_test_9.json...\n",
            "loading test/all_data_25_niid_2_test_9.json...\n",
            "loading test/all_data_32_niid_2_test_9.json...\n",
            "loading test/all_data_5_niid_2_test_9.json...\n",
            "loading test/all_data_7_niid_2_test_9.json...\n",
            "loading test/all_data_0_niid_2_test_9.json...\n",
            "loading test/all_data_30_niid_2_test_9.json...\n",
            "loading test/all_data_33_niid_2_test_9.json...\n",
            "loading test/all_data_2_niid_2_test_9.json...\n",
            "loading test/all_data_10_niid_2_test_9.json...\n",
            "loading test/all_data_12_niid_2_test_9.json...\n",
            "clients: ['f0004_09', 'f0020_08', 'f0044_12', 'f0046_20', 'f0062_25', 'f0072_36', 'f0073_45', 'f0074_07', 'f0078_48', 'f0080_14', 'f0083_09', 'f0086_47', 'f0087_24', 'f0092_16', 'f0096_45', 'f0097_05', 'f0103_28', 'f0118_07', 'f0119_44', 'f0126_41', 'f0127_07', 'f0130_28', 'f0138_30', 'f0139_23', 'f0142_39', 'f0145_33', 'f0147_13', 'f0149_15', 'f0152_02', 'f0158_20', 'f0160_11', 'f0165_04', 'f0170_40', 'f0173_00', 'f0180_29', 'f0189_49', 'f0194_30', 'f0199_01', 'f0208_05', 'f0211_26', 'f0225_20', 'f0227_27', 'f0234_16', 'f0236_17', 'f0238_02', 'f0241_46', 'f0246_12', 'f0252_30', 'f0253_40', 'f0259_41', 'f0261_06', 'f0263_31', 'f0269_21', 'f0273_27', 'f0275_17', 'f0277_33', 'f0279_03', 'f0280_20', 'f0284_34', 'f0286_16', 'f0287_15', 'f0289_10', 'f0290_29', 'f0295_17', 'f0296_20', 'f0300_24', 'f0305_08', 'f0311_48', 'f0316_21', 'f0322_19', 'f0326_35', 'f0334_01', 'f0341_00', 'f0344_25', 'f0360_15', 'f0364_10', 'f0386_15', 'f0391_32', 'f0392_15', 'f0395_15', 'f0396_05', 'f0399_44', 'f0400_25', 'f0406_00', 'f0407_39', 'f0408_03', 'f0414_22', 'f0422_45', 'f0425_42', 'f0430_02', 'f0433_14', 'f0438_19', 'f0440_17', 'f0442_00', 'f0445_46', 'f0456_45', 'f0477_46', 'f0478_10', 'f0486_05', 'f0491_35', 'f0492_08', 'f0499_10', 'f0509_28', 'f0511_03', 'f0514_14', 'f0515_18', 'f0517_23', 'f0526_22', 'f0531_48', 'f0532_09', 'f0534_00', 'f0536_45', 'f0539_34', 'f0540_22', 'f0549_39', 'f0550_24', 'f0556_25', 'f0562_31', 'f0569_42', 'f0571_24', 'f0584_22', 'f0587_34', 'f0589_20', 'f0593_46', 'f0597_00', 'f0607_27', 'f0611_34', 'f0615_00', 'f0617_30', 'f0634_01', 'f0646_22', 'f0654_02', 'f0656_11', 'f0663_30', 'f0664_26', 'f0673_28', 'f0680_28', 'f0682_48', 'f0683_02', 'f0685_40', 'f0690_26', 'f0692_03', 'f0697_31', 'f0702_46', 'f0709_40', 'f0714_32', 'f0719_05', 'f0729_08', 'f0731_05', 'f0734_39', 'f0739_42', 'f0741_44', 'f0747_24', 'f0752_25', 'f0754_01', 'f0766_01', 'f0769_14', 'f0774_40', 'f0783_27', 'f0785_26', 'f0789_10', 'f0791_04', 'f0802_22', 'f0804_00', 'f0817_40', 'f0818_03', 'f0819_13', 'f0826_18', 'f0830_45', 'f0835_08', 'f0836_28', 'f0837_08', 'f0840_37', 'f0848_42', 'f0849_38', 'f0852_40', 'f0853_05', 'f0854_12', 'f0856_23', 'f0857_21', 'f0862_25', 'f0877_17', 'f0884_29', 'f0888_25', 'f0890_35', 'f0897_19', 'f0900_42', 'f0901_39', 'f0914_27', 'f0923_31', 'f0924_33', 'f0935_28', 'f0939_32', 'f0940_45', 'f0942_17', 'f0946_31', 'f0950_21', 'f0954_02', 'f0959_27', 'f0960_13', 'f0961_08', 'f0965_28', 'f0967_29', 'f0971_24', 'f0974_14', 'f0975_48', 'f0985_44', 'f1000_45', 'f1002_33', 'f1011_35', 'f1012_30', 'f1019_45', 'f1032_06', 'f1033_07', 'f1035_22', 'f1040_01', 'f1046_14', 'f1053_00', 'f1060_13', 'f1065_10', 'f1072_34', 'f1073_05', 'f1098_11', 'f1100_46', 'f1105_31', 'f1110_03', 'f1111_02', 'f1112_30', 'f1121_47', 'f1122_02', 'f1130_48', 'f1137_07', 'f1139_48', 'f1145_39', 'f1146_05', 'f1147_19', 'f1158_21', 'f1165_30', 'f1166_04', 'f1173_40', 'f1181_27', 'f1208_33', 'f1213_10', 'f1214_39', 'f1215_02', 'f1218_35', 'f1219_26', 'f1227_38', 'f1230_10', 'f1233_46', 'f1234_26', 'f1236_11', 'f1239_18', 'f1253_43', 'f1258_19', 'f1262_42', 'f1266_29', 'f1278_22', 'f1279_31', 'f1285_45', 'f1300_41', 'f1307_25', 'f1309_08', 'f1313_04', 'f1318_17', 'f1320_38', 'f1330_35', 'f1331_49', 'f1335_30', 'f1339_22', 'f1342_17', 'f1344_45', 'f1346_08', 'f1348_27', 'f1349_00', 'f1353_42', 'f1362_31', 'f1367_00', 'f1373_33', 'f1377_09', 'f1380_34', 'f1382_07', 'f1386_19', 'f1387_23', 'f1396_07', 'f1420_00', 'f1422_18', 'f1423_05', 'f1426_27', 'f1430_10', 'f1431_47', 'f1437_23', 'f1439_27', 'f1443_09', 'f1444_03', 'f1447_28', 'f1448_42', 'f1452_02', 'f1453_47', 'f1454_12', 'f1455_14', 'f1462_01', 'f1464_23', 'f1472_37', 'f1475_14', 'f1477_37', 'f1480_24', 'f1484_21', 'f1492_06', 'f1495_32', 'f1496_39', 'f1500_25', 'f1504_10', 'f1505_21', 'f1508_14', 'f1514_35', 'f1521_17', 'f1526_31', 'f1531_34', 'f1532_16', 'f1537_32', 'f1544_46', 'f1551_34', 'f1558_21', 'f1561_30', 'f1563_24', 'f1566_38', 'f1567_20', 'f1569_23', 'f1573_06', 'f1576_04', 'f1594_09', 'f1599_48', 'f1603_40', 'f1609_27', 'f1613_27', 'f1617_41', 'f1623_09', 'f1624_03', 'f1630_21', 'f1633_35', 'f1634_38', 'f1639_38', 'f1651_06', 'f1652_11', 'f1656_24', 'f1659_04', 'f1660_07', 'f1665_00', 'f1666_45', 'f1681_44', 'f1682_10', 'f1683_30', 'f1696_08', 'f1698_35', 'f1708_22', 'f1722_43', 'f1727_36', 'f1729_47', 'f1733_23', 'f1736_04', 'f1739_23', 'f1747_44', 'f1752_29', 'f1766_41', 'f1767_34', 'f1777_29', 'f1783_34', 'f1790_11', 'f1793_33', 'f1795_30', 'f1798_42', 'f1802_35', 'f1805_13', 'f1810_02', 'f1817_18', 'f1822_45', 'f1835_27', 'f1837_00', 'f1842_34', 'f1845_02', 'f1856_37', 'f1858_21', 'f1862_37', 'f1863_44', 'f1880_06', 'f1884_05', 'f1899_19', 'f1900_12', 'f1902_10', 'f1911_44', 'f1912_13', 'f1913_37', 'f1915_00', 'f1916_32', 'f1921_33', 'f1925_00', 'f1926_49', 'f1930_02', 'f1934_10', 'f1935_07', 'f1940_28', 'f1941_44', 'f1943_00', 'f1948_41', 'f1951_19', 'f1952_17', 'f1957_41', 'f1966_31', 'f1968_09', 'f1973_24', 'f1978_04', 'f1989_45', 'f1998_10', 'f2003_18', 'f2009_39', 'f2011_41', 'f2015_08', 'f2028_18', 'f2033_24', 'f2035_49', 'f2050_45', 'f2052_11', 'f2062_39', 'f2066_29', 'f2070_11', 'f2073_06', 'f2078_03', 'f2080_34', 'f2086_25', 'f2092_41', 'f2097_31', 'f2102_52', 'f2107_53', 'f2108_54', 'f2124_66', 'f2126_57', 'f2128_52', 'f2130_74', 'f2132_69', 'f2148_78', 'f2161_58', 'f2162_62', 'f2163_51', 'f2167_65', 'f2168_66', 'f2172_67', 'f2188_71', 'f2190_52', 'f2194_63', 'f2196_58', 'f2197_62', 'f2201_80', 'f2206_73', 'f2214_70', 'f2221_70', 'f2229_88', 'f2233_79', 'f2234_78', 'f2241_88', 'f2244_94', 'f2245_95', 'f2250_52', 'f2253_73', 'f2255_70', 'f2259_68', 'f2263_79', 'f2272_85', 'f2275_90', 'f2284_51', 'f2289_62', 'f2291_65', 'f2292_70', 'f2295_67', 'f2296_73', 'f2298_74', 'f2300_52', 'f2304_67', 'f2312_87', 'f2317_76', 'f2318_78', 'f2321_84', 'f2322_80', 'f2326_83', 'f2328_92', 'f2334_99', 'f2343_83', 'f2344_86', 'f2347_58', 'f2351_74', 'f2354_87', 'f2357_70', 'f2362_73', 'f2370_67', 'f2375_61', 'f2392_80', 'f2405_90', 'f2410_85', 'f2425_91', 'f2426_87', 'f2429_95', 'f2432_94', 'f2434_59', 'f2437_50', 'f2450_56', 'f2451_68', 'f2461_99', 'f2463_79', 'f2471_82', 'f2475_66', 'f2477_69', 'f2490_91', 'f2495_59', 'f2502_59', 'f2506_77', 'f2507_78', 'f2515_57', 'f2517_63', 'f2520_64', 'f2547_96', 'f2556_97', 'f2560_93', 'f2564_59', 'f2565_57', 'f2566_51', 'f2568_54', 'f2577_65', 'f2579_76', 'f2581_72', 'f2585_74', 'f2589_78', 'f2593_72', 'f2594_90', 'f3108_34', 'f3119_39', 'f3124_21', 'f3128_15', 'f3129_16', 'f3132_12', 'f3138_46', 'f3139_09', 'f3140_49', 'f3142_38', 'f3143_04', 'f3147_41', 'f3150_21', 'f3162_20', 'f3168_20', 'f3170_08', 'f3177_03', 'f3179_39', 'f3180_41', 'f3183_15', 'f3186_24', 'f3189_40', 'f3193_08', 'f3195_04', 'f3200_41', 'f3207_05', 'f3211_20', 'f3215_34', 'f3225_26', 'f3234_23', 'f3239_36', 'f3245_09', 'f3248_19', 'f3250_14', 'f3270_11', 'f3271_09', 'f3273_45', 'f3274_27', 'f3277_09', 'f3278_33', 'f3285_15', 'f3300_25', 'f3320_18', 'f3321_36', 'f3342_24', 'f3344_26', 'f3346_12', 'f3350_11', 'f3354_29', 'f3360_00', 'f3362_03', 'f3363_42', 'f3367_07', 'f3368_37', 'f3375_30', 'f3381_42', 'f3382_25', 'f3384_26', 'f3388_36', 'f3390_07', 'f3393_08', 'f3396_07', 'f3399_09', 'f3400_08', 'f3401_42', 'f3403_48', 'f3405_07', 'f3419_33', 'f3428_02', 'f3431_32', 'f3439_44', 'f3447_20', 'f3449_11', 'f3456_33', 'f3467_12', 'f3469_10', 'f3471_02', 'f3475_09', 'f3481_39', 'f3483_16', 'f3491_31', 'f3499_36', 'f3502_45', 'f3503_07', 'f3512_31', 'f3513_47', 'f3519_18', 'f3525_29', 'f3526_34', 'f3530_32', 'f3543_29', 'f3555_14', 'f3560_17', 'f3564_08', 'f3576_04', 'f3581_23', 'f3585_49', 'f3588_33', 'f3594_23', 'f3596_19', 'f3598_35', 'f3602_12', 'f3608_13', 'f3609_24', 'f3610_45', 'f3618_26', 'f3628_27', 'f3638_42', 'f3647_13', 'f3651_18', 'f3653_40', 'f3660_26', 'f3667_35', 'f3676_37', 'f3678_17', 'f3679_06', 'f3688_07', 'f3692_49', 'f3694_44', 'f3698_01', 'f3701_44', 'f3703_10', 'f3704_45', 'f3706_37', 'f3711_08', 'f3713_40', 'f3729_27', 'f3733_48', 'f3743_12', 'f3746_12', 'f3756_06', 'f3760_06', 'f3767_45', 'f3773_14', 'f3779_49', 'f3780_30', 'f3782_00', 'f3800_17', 'f3804_08', 'f3809_17', 'f3811_12', 'f3813_08', 'f3817_22', 'f3824_05', 'f3833_03', 'f3834_35', 'f3835_39', 'f3838_46', 'f3839_11', 'f3848_28', 'f3856_34', 'f3864_42', 'f3865_26', 'f3867_42', 'f3876_02', 'f3878_43', 'f3879_35', 'f3881_31', 'f3892_07', 'f3905_45', 'f3908_41', 'f3909_46', 'f3910_30', 'f3911_34', 'f3912_15', 'f3918_03', 'f3921_41', 'f3922_38', 'f3927_00', 'f3936_41', 'f3944_02', 'f3950_44', 'f3966_01', 'f3969_02', 'f3975_15', 'f3976_36', 'f3984_32', 'f3989_21', 'f3994_27', 'f3999_42', 'f4006_12', 'f4012_13', 'f4015_05', 'f4017_11', 'f4018_10', 'f4019_00', 'f4022_12', 'f4026_43', 'f4029_29', 'f4030_29', 'f4037_48', 'f4040_28', 'f4053_14', 'f4055_44', 'f4061_16', 'f4062_17', 'f4067_23', 'f4069_03', 'f4070_43', 'f4071_32', 'f4081_24', 'f4083_30', 'f4084_14', 'f4087_40']\n",
            "number of clients: 737\n",
            "training data size: 146870\n",
            "user data shape x: (284, 784)\n",
            "user data shape y: (284,)\n"
          ]
        }
      ]
    },
    {
      "cell_type": "markdown",
      "metadata": {
        "id": "zObknvS6XjK9"
      },
      "source": [
        "As we can see, the function above loads all the json files within a specifed directory into a list of user_ids, a list of (potential) groups, and a dictionary of user data. The user data is provided in the following format of hierarchical dictionary:\n",
        "- user_id: data\n",
        "  - 'x': input features as a nested list, shape=(data_size, $28^2$)\n",
        "  - 'y': labels as a plain list, length=data_size\n",
        "\n",
        "Now we wrap the data into custom Pytorch dataset objects:"
      ]
    },
    {
      "cell_type": "code",
      "metadata": {
        "id": "h8W8mTgpB5TB"
      },
      "source": [
        "from torch.utils.data import Dataset\n",
        "from PIL import Image\n",
        "\n",
        "# define a custom dataset class\n",
        "class FEMNIST_client_dataset(Dataset):\n",
        "  def __init__(self, user_id, user_data, transform=None, target_transform=None):\n",
        "    self.user_id = user_id\n",
        "    self.data_dict = user_data\n",
        "    self.transform = transform\n",
        "    self.target_transform = target_transform\n",
        "    # size\n",
        "    assert len(self.data_dict['x']) == len(self.data_dict['y'])\n",
        "    self.data_size = len(self.data_dict['x'])\n",
        "    # extract the features and labels from the data {'x':images, 'y':labels}\n",
        "    self.images = np.array(self.data_dict['x']).reshape(self.data_size, 28, 28)\n",
        "    self.labels = np.array(self.data_dict['y'])\n",
        "  \n",
        "  def get_userid(self):\n",
        "    return self.user_id\n",
        "\n",
        "  def __len__(self):\n",
        "    return self.data_size\n",
        "\n",
        "  def __getitem__(self, idx):\n",
        "    img, label = self.images[idx], self.labels[idx]\n",
        "    # to be consistent with all other datasets that return a PIL Image\n",
        "    img = Image.fromarray(img)\n",
        "    if self.transform is not None:\n",
        "        img = self.transform(img)\n",
        "    if self.target_transform is not None:\n",
        "        label = self.target_transform(label)\n",
        "    return img, label\n"
      ],
      "execution_count": null,
      "outputs": []
    },
    {
      "cell_type": "markdown",
      "metadata": {
        "id": "gZM3sRibUWgr"
      },
      "source": [
        "Iterate the *data_train* dictionary to create as many client datasets as the users:"
      ]
    },
    {
      "cell_type": "code",
      "metadata": {
        "id": "DHRhe0piOXw4"
      },
      "source": [
        "from torchvision import transforms\n",
        "from matplotlib import pyplot as plt\n",
        "from torch.utils.data import DataLoader\n",
        "\n",
        "# define transforms: normalized tensors as input\n",
        "transform = transforms.Compose([transforms.ToTensor(),\n",
        "                                transforms.Normalize((0.1307,), (0.3081,))])\n",
        "local_datasets = {}\n",
        "local_loaders = {}\n",
        "\n",
        "# Build a training dataset and a dataLoader for each client\n",
        "for uid in data_train:\n",
        "  u_data = data_train[uid]\n",
        "  local_datasets[uid] = FEMNIST_client_dataset(uid, u_data, transform=transform)\n",
        "  local_loaders[uid] = DataLoader(local_datasets[uid],\n",
        "                                  batch_size=16, shuffle=False, num_workers=1)"
      ],
      "execution_count": null,
      "outputs": []
    },
    {
      "cell_type": "markdown",
      "metadata": {
        "id": "2dMljwVFap1u"
      },
      "source": [
        "Let's check out a sample from client 'f3388_36':"
      ]
    },
    {
      "cell_type": "code",
      "metadata": {
        "colab": {
          "base_uri": "https://localhost:8080/",
          "height": 315
        },
        "id": "2pHEv82kUuMB",
        "outputId": "a6b50cd4-d7c6-4004-9659-ad2e8f78830e"
      },
      "source": [
        "# check out a sample from client 'f3388_36'\n",
        "x, y = local_datasets['f3388_36'][0]\n",
        "print('from client',local_datasets['f3388_36'].user_id)\n",
        "print('label =', y)\n",
        "print('features =')\n",
        "plt.imshow(x.squeeze(0))  # (C,H,W)->(H,W)\n",
        "plt.show()"
      ],
      "execution_count": null,
      "outputs": [
        {
          "output_type": "stream",
          "name": "stdout",
          "text": [
            "from client f3388_36\n",
            "label = 6\n",
            "features =\n"
          ]
        },
        {
          "output_type": "display_data",
          "data": {
            "image/png": "[encoded data removed]",
            "text/plain": [
              "<Figure size 432x288 with 1 Axes>"
            ]
          },
          "metadata": {
            "needs_background": "light"
          }
        }
      ]
    }
  ]
}